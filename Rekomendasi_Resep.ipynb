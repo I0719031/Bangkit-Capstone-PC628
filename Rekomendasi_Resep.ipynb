{
 "cells": [
  {
   "cell_type": "markdown",
   "metadata": {
    "colab_type": "text",
    "id": "view-in-github"
   },
   "source": [
    "<a href=\"https://colab.research.google.com/github/I0719031/Bangkit-Capstone-PC628/blob/main/Rekomendasi_Resep.ipynb\" target=\"_parent\"><img src=\"https://colab.research.google.com/assets/colab-badge.svg\" alt=\"Open In Colab\"/></a>"
   ]
  },
  {
   "cell_type": "code",
   "execution_count": 4,
   "metadata": {
    "id": "GxJpA6OZyU4w"
   },
   "outputs": [],
   "source": [
    "#Library yang digunakan pada sistem rekomendasi ini\n",
    "import pandas as pd\n",
    "import numpy as np\n",
    "from sklearn.feature_extraction.text import CountVectorizer, TfidfVectorizer\n",
    "import nltk\n",
    "from sklearn.metrics.pairwise import cosine_similarity\n",
    "from sklearn.model_selection import cross_val_score\n",
    "from sklearn.metrics.pairwise import euclidean_distances\n",
    "pd.set_option('display.max_colwidth', 1500)"
   ]
  },
  {
   "cell_type": "code",
   "execution_count": null,
   "metadata": {
    "id": "oUI9kLdy7kgZ"
   },
   "outputs": [],
   "source": [
    "#Ambil csv dari drive\n",
    "from google.colab import drive \n",
    "drive.mount('/content/gdrive')\n",
    "import pandas as pd \n",
    "descriptions=pd.read_csv('gdrive/My Drive/resepmasakan/dataset-kambing (1).csv')\n",
    "descriptions.head()"
   ]
  },
  {
   "cell_type": "code",
   "execution_count": null,
   "metadata": {
    "id": "1y6GuvvRk4nw"
   },
   "outputs": [],
   "source": [
    "#descriptions.drop(['points'\t,'price','province'\t,'region_1'\t,'region_2','variety'\t,'winery','Unnamed: 0'],1,inplace=True)\n",
    "#descriptions.drop(['Unnamed: 0'],1,inplace=True)"
   ]
  },
  {
   "cell_type": "code",
   "execution_count": null,
   "metadata": {
    "id": "UbOCwY_32yUs"
   },
   "outputs": [],
   "source": [
    "# unigram vector representation\n",
    "vectorizer = TfidfVectorizer(stop_words='english',\n",
    "                     binary=False,\n",
    "                     max_df=0.95, \n",
    "                     min_df=0.15,\n",
    "                     ngram_range = (1,2),use_idf = False, norm = None)\n",
    "## Even astype(str) would work\n",
    "doc_vectors = vectorizer.fit_transform(descriptions['Ingredients'].values.astype('U'))\n",
    "print(doc_vectors.shape)\n",
    "print(doc_vectors[0])\n",
    "#print(vectorizer.get_feature_names()​"
   ]
  },
  {
   "cell_type": "code",
   "execution_count": null,
   "metadata": {
    "id": "qh0KFfZg-3oH"
   },
   "outputs": [],
   "source": [
    "def rekomendasi_resep(query, results_number=20):\n",
    "        results=[]\n",
    "        q_vector = vectorizer.transform([query])\n",
    "        print(\"Comparable Description: \", query)\n",
    "        results.append(cosine_similarity(q_vector, doc_vectors.toarray()))\n",
    "        f=0\n",
    "        elem_list=[]\n",
    "        for i in results[:10]:\n",
    "            for elem in i[0]:\n",
    "                    #print(\"Review\",f, \"Similarity: \", elem)\n",
    "                    elem_list.append(elem)\n",
    "                    f+=1\n",
    "            if sum(elem_list) / len(elem_list)==0.0:\n",
    "                print(\"No similar descriptions\")\n",
    "            else:\n",
    "                print(descriptions['Title'].loc[elem_list.index(max(elem_list)):elem_list.index(max(elem_list))])\n",
    "                descriptions['kemiripan'] = elem_list\n",
    "                Frame = pd.DataFrame(descriptions).sort_values(by=\"kemiripan\", ascending=False)\n",
    "                return Frame[:15]"
   ]
  },
  {
   "cell_type": "code",
   "execution_count": null,
   "metadata": {
    "id": "2IcXhwM-wi2q"
   },
   "outputs": [],
   "source": [
    "rekomendasi_resep(\"kambing cabai jahe lengkuas bawang merah bawang putih tomat santan\")"
   ]
  },
  {
   "cell_type": "code",
   "execution_count": null,
   "metadata": {
    "id": "dg-0w5BLxXiW"
   },
   "outputs": [],
   "source": [
    "rekomendasi_resep(\"Daging\")"
   ]
  },
  {
   "cell_type": "markdown",
   "metadata": {},
   "source": [
    "# Versi wiga Nyoba"
   ]
  },
  {
   "cell_type": "code",
   "execution_count": 6,
   "metadata": {},
   "outputs": [
    {
     "data": {
      "text/html": [
       "<div>\n",
       "<style scoped>\n",
       "    .dataframe tbody tr th:only-of-type {\n",
       "        vertical-align: middle;\n",
       "    }\n",
       "\n",
       "    .dataframe tbody tr th {\n",
       "        vertical-align: top;\n",
       "    }\n",
       "\n",
       "    .dataframe thead th {\n",
       "        text-align: right;\n",
       "    }\n",
       "</style>\n",
       "<table border=\"1\" class=\"dataframe\">\n",
       "  <thead>\n",
       "    <tr style=\"text-align: right;\">\n",
       "      <th></th>\n",
       "      <th>Title</th>\n",
       "      <th>Ingredients</th>\n",
       "      <th>Steps</th>\n",
       "      <th>Loves</th>\n",
       "      <th>URL</th>\n",
       "      <th>Parser Ingredient</th>\n",
       "    </tr>\n",
       "  </thead>\n",
       "  <tbody>\n",
       "    <tr>\n",
       "      <th>0</th>\n",
       "      <td>Orak arik telur buncis</td>\n",
       "      <td>1 butir telur -- 10 buncis -- 3 siung bawang merah -- 2 siung bawang putih -- 6 cabai rawit -- 1 sdm kecap manis -- Penyedap rasa --</td>\n",
       "      <td>Haluskan bawang merah ,  bawang putih dan cabai -- Iris buncis sesuai selera -- Tumis bumbu halus hingga harum -- Masukan buncis hingga agak layu -- Masukan penyedap -- Masukan telur ,  lalu campur dengan buncis di orak arik hingga rata.. tunggu sebentar kemudian di orak arik lagi..  -- Masukan kecap manis -- Masukan air  -- Koreksi rasa --</td>\n",
       "      <td>1.0</td>\n",
       "      <td>NaN</td>\n",
       "      <td>telur buncis bawang merah bawang putih cabai rawit kecap manis penyedap</td>\n",
       "    </tr>\n",
       "    <tr>\n",
       "      <th>1</th>\n",
       "      <td>Terik Ayam Tempe Telur</td>\n",
       "      <td>4 sayap ayam -- 4 buah telur -- 1 / 2 papan tempe -- Bumbu halus: -- 5 siung bawang merah -- 4 siung bawang putih -- 2 butir kemiri -- 1 / 2 sdm ketumbar -- Garam -- Bumbu lain: -- 2 cm lengkuas -- 1 lembar daun salam -- 1 batang sereh -- Gula jawa -- Bawang goreng -- Minyak -- 1 bungkus santan kara -- Air -- 5 buah cabai rawit --</td>\n",
       "      <td>Cuci sayap ayam kemudian sisihkan. Rebus telur dan kupas. Sisihkan. Potong tempe sesuai selera. Sisihkan. -- Panaskan minyak langsung di dalam panci. Tumis sereh ,  daun salam ,  dan lengkuas. Setelah beberapa saat masukkan bumbu halus. Tumis sampai berbau harum. Kemudian masukkan air dan gula jawa dan cabai rawit. Jika air sudah mendidih ,  masukkan sayap ayam dan telur. Masukkan tempe. Tunggu sampai ayam empuk. Masukkan santan kara. Tunggu beberapa saat. Sesuaikan rasa. Matikan api ,  dan taburkan bawang goreng. -- Terik siap dinikmati</td>\n",
       "      <td>6.0</td>\n",
       "      <td>NaN</td>\n",
       "      <td>sayap ayam telur tempe bawang merah bawang putih kemiri ketumbar garam lengkuas salam sereh gula jawa bawang minyak santan kara air cabai rawit</td>\n",
       "    </tr>\n",
       "    <tr>\n",
       "      <th>2</th>\n",
       "      <td>Telur Kornet</td>\n",
       "      <td>1 / 2 kaleng kornet -- 2-3 buah bawang prei -- 2 butir telur -- 1 sdm tepung terigu -- cabai rawit -- Garam -- 1 / 2 sdt Merica -- 1 / 2 sdm Saus tiram --</td>\n",
       "      <td>Campur kornet ,  telur ,  bawang prei dan cabai yang sudah di iris tipis. Tambahkan garam merica saos tiram dan tepung terigu. Goreng 1 sdm kemudian cek rasa. Adonan siap di goreng.</td>\n",
       "      <td>7.0</td>\n",
       "      <td>NaN</td>\n",
       "      <td>kaleng kornet bawang prei telur tepung terigu cabai rawit garam merica saus tiram</td>\n",
       "    </tr>\n",
       "    <tr>\n",
       "      <th>3</th>\n",
       "      <td>Tahu Telur Surabaya</td>\n",
       "      <td>1 butir telur -- 1 potong tahu putih goreng setengah matang -- 1 / 2 siung bawang putih goreng -- 1 sdm petis udang -- 3 sdm kacang tanah goreng -- Gula merah -- Air -- Kucai / seledri -- Bawang goreng -- Garam -- Kecap manis -- 4 buah cabai rawit goreng -- Tauge -- Acar --</td>\n",
       "      <td>Uleg kacang ,  cabai ,  bawang putih ,  gula merah ,  petis. Tambahkan air matang. Aduk hingga rata. Sisihkan -- Potong tahu kecil-kecil. Sisihkan -- Kocok telur dan garam. Masukkan tahu ke telur. Goreng -- Campur telur goreng dan tauge dengan saus kacang. Aduk rata. -- Pindah ke piring ,  tambahkan kecap manis ,  taburi bawang goreng dan kucai / seledri. Tambahkan acar --</td>\n",
       "      <td>10.0</td>\n",
       "      <td>NaN</td>\n",
       "      <td>telur tahu putih bawang putih petis udang kacang tanah gula merah air kucai seledri bawang garam kecap manis cabai rawit tauge acar</td>\n",
       "    </tr>\n",
       "    <tr>\n",
       "      <th>4</th>\n",
       "      <td>Telur ceplok masak kecap</td>\n",
       "      <td>4 butir telur -- 4 siung bawang merah -- 2 siung bawang putih -- 1 buah tomat -- 4 buah cabai merah besar -- Kecap --</td>\n",
       "      <td>Ceplok telur lalu sisihkan -- Iris tipis dua bawang , cabai dan tomat -- Panaskan minyak tumis bumbu sampai harum -- Tambahkan kecap masukan telur tambahkan air sampai bumbu meresap -- Angkat dan sajikan --</td>\n",
       "      <td>0.0</td>\n",
       "      <td>NaN</td>\n",
       "      <td>telur bawang merah bawang putih tomat cabai merah kecap</td>\n",
       "    </tr>\n",
       "    <tr>\n",
       "      <th>...</th>\n",
       "      <td>...</td>\n",
       "      <td>...</td>\n",
       "      <td>...</td>\n",
       "      <td>...</td>\n",
       "      <td>...</td>\n",
       "      <td>...</td>\n",
       "    </tr>\n",
       "    <tr>\n",
       "      <th>620</th>\n",
       "      <td>Nila Goreng cabai Ijo</td>\n",
       "      <td>6 ekor Ikan nila -- 1 Tepung sajiku ayam kentucky -- 30 cabai rawit -- 10 Bawang putih -- secukupnya Minyak goreng -- secukupnya Penyedap -- secukupnya Garam --</td>\n",
       "      <td>Belah ikan jgn sampai lepas, cuci bersih, beri garam dan jeruk nipis agar tidak amis. lalu baluri tepung sajiku basah, goreng. -- Goreng sebentar cabai rawit dan bawang putih, lalu giling kasar atau sesuai selera dengan sedikit minyak bekas goreng, tambah garam dn penyedap secukupnya. -- Sajikan ikan nila goreng dengan sambal ijo dan nasi panas. --</td>\n",
       "      <td>1.0</td>\n",
       "      <td>/id/resep/4454182-nila-goreng-cabai-ijo</td>\n",
       "      <td>ekor ikan nila tepung sajiku ayam kentucky cabai rawit bawang putih minyak penyedap garam</td>\n",
       "    </tr>\n",
       "    <tr>\n",
       "      <th>621</th>\n",
       "      <td>Tongkol Balado Rawit</td>\n",
       "      <td>650 Gram Ikan Tongkol -- 15 cabai Merah Keriting -- 15 cabai Rawit Merah -- 7 Buah Bawang Merah -- 5 Siung Bawang Putih -- 1 Ruas Jari Jahe -- 2 Ruas Jari Lengkuas -- 2 Lembar Daun Salam -- 1 Buah Tomat --</td>\n",
       "      <td>Goreng Setengah Matang Ikan, Jangan Terlalu Kering Nanti Keras. -- Haluskan cabai Merah Keriting, cabai Rawit Merah, Bawang Merah, Bawang Putih, Tomat &amp; Jahe. -- Setelah Bumbu Halus, Lalu Tumis Bumbu Beserta Lengkuas, Daun Salam. Sampai Harum. -- Setelah Harum Masukkan Ikan Lalu Masak Hingga Meresap. -- Angkat &amp; Sajikan. --</td>\n",
       "      <td>0.0</td>\n",
       "      <td>/id/resep/4453997-tongkol-balado-rawit</td>\n",
       "      <td>ikan tongkol cabai merah keriting cabai rawit merah bawang merah bawang putih jahe lengkuas salam tomat</td>\n",
       "    </tr>\n",
       "    <tr>\n",
       "      <th>622</th>\n",
       "      <td>Tuna Goreng Crispy Saus Teriyaki</td>\n",
       "      <td>20 potong tuna iris kotak (rendam dengan air jeruk nipis) -- 1 sachet tepung crispy ayam -- 1 sachet saus teriyaki -- 1 buah bawang bombay --</td>\n",
       "      <td>1 sachet tepung bagi dua, buat yg basah dan pisahkan yang kering... tuna yang sudah direndam air jeruk nipis masukan kedalam tepung yang diencerkan aduk rata -- Lalu masukan ketepung kering lakukan smpai tuna habis, kemudian goreng dengan api sedang udah kecoklatan angkat ga usah lama2 -- Tumis bawang bombay sampai harum, masukan tuna yg sudah digoreng, beri saus teriyaki aduk rata. Sajikan --</td>\n",
       "      <td>0.0</td>\n",
       "      <td>/id/resep/4453867-tuna-goreng-crispy-saus-teriyaki</td>\n",
       "      <td>tuna air jeruk nipis sachet tepung crispy ayam sachet saus teriyaki bawang bombay</td>\n",
       "    </tr>\n",
       "    <tr>\n",
       "      <th>623</th>\n",
       "      <td>Tumis terong+ sarden</td>\n",
       "      <td>2 bh terong ungu -- 1 kaleng sarden -- 5 bh cabai merah -- 5 bh cabai rawit -- 2 siung Bawang merah -- 1 siung Bawang putih -- Jahe di geprek -- 5 bh cabai hijau  di iris -- Garam -- Gula --</td>\n",
       "      <td>Potong2 terong ukuran kecil.. Taruh di wadah lalu cuci dgn air garam -- Ulek cabai merah,bawang merah,bawang putih -- Lalu panas kan minyak diwajan... Tumis bumbu yg sdh dihaluskan, masukan jahe dan cabai hijau..tambahkan garam, gula lalu masukkan terong aduk2 tambahkan air lalu tutup wajan.. -- Lalu masukkan sarden aduk2 lg sampe rata lalu tutup kembali wajan... Koreksi rasa dan matikan api...siap dihidangkan... --</td>\n",
       "      <td>6.0</td>\n",
       "      <td>/id/resep/4454053-tumis-terong-sarden</td>\n",
       "      <td>terong ungu kaleng sarden cabai merah cabai rawit bawang merah bawang putih jahe cabai hijau garam gula</td>\n",
       "    </tr>\n",
       "    <tr>\n",
       "      <th>624</th>\n",
       "      <td>Ikan tongkol balado</td>\n",
       "      <td>10 buah ikan tongkol iris -- 2 lembar daun jeruk -- minyak untuk menumis -- garam -- bumbu halus: -- 4 bawang merah -- 2 bawang putih -- 15 cabai merah keriting -- 10 cabai rawit setan (selera) -- 1/2 tomat besar -- gula merah --</td>\n",
       "      <td>Goreng sebentar ikan tongkol -- Dalam penggorengan terpisah, tumis bumbu halus, masukkan daun jeruk dan garam hingga berubah warna -- Masukkan ikan tongkol yg sudah digoreng tadi -- Koreksi rasa, sajikan --</td>\n",
       "      <td>5.0</td>\n",
       "      <td>/id/resep/4453989-ikan-tongkol-balado</td>\n",
       "      <td>ikan tongkol jeruk minyak garam bawang merah bawang putih cabai merah keriting cabai rawit tomat gula merah</td>\n",
       "    </tr>\n",
       "  </tbody>\n",
       "</table>\n",
       "<p>625 rows × 6 columns</p>\n",
       "</div>"
      ],
      "text/plain": [
       "                                Title  \\\n",
       "0              Orak arik telur buncis   \n",
       "1              Terik Ayam Tempe Telur   \n",
       "2                        Telur Kornet   \n",
       "3                 Tahu Telur Surabaya   \n",
       "4            Telur ceplok masak kecap   \n",
       "..                                ...   \n",
       "620             Nila Goreng cabai Ijo   \n",
       "621              Tongkol Balado Rawit   \n",
       "622  Tuna Goreng Crispy Saus Teriyaki   \n",
       "623              Tumis terong+ sarden   \n",
       "624               Ikan tongkol balado   \n",
       "\n",
       "                                                                                                                                                                                                                                                                                                                                      Ingredients  \\\n",
       "0                                                                                                                                                                                                            1 butir telur -- 10 buncis -- 3 siung bawang merah -- 2 siung bawang putih -- 6 cabai rawit -- 1 sdm kecap manis -- Penyedap rasa --   \n",
       "1    4 sayap ayam -- 4 buah telur -- 1 / 2 papan tempe -- Bumbu halus: -- 5 siung bawang merah -- 4 siung bawang putih -- 2 butir kemiri -- 1 / 2 sdm ketumbar -- Garam -- Bumbu lain: -- 2 cm lengkuas -- 1 lembar daun salam -- 1 batang sereh -- Gula jawa -- Bawang goreng -- Minyak -- 1 bungkus santan kara -- Air -- 5 buah cabai rawit --   \n",
       "2                                                                                                                                                                                      1 / 2 kaleng kornet -- 2-3 buah bawang prei -- 2 butir telur -- 1 sdm tepung terigu -- cabai rawit -- Garam -- 1 / 2 sdt Merica -- 1 / 2 sdm Saus tiram --   \n",
       "3                                                              1 butir telur -- 1 potong tahu putih goreng setengah matang -- 1 / 2 siung bawang putih goreng -- 1 sdm petis udang -- 3 sdm kacang tanah goreng -- Gula merah -- Air -- Kucai / seledri -- Bawang goreng -- Garam -- Kecap manis -- 4 buah cabai rawit goreng -- Tauge -- Acar --   \n",
       "4                                                                                                                                                                                                                           4 butir telur -- 4 siung bawang merah -- 2 siung bawang putih -- 1 buah tomat -- 4 buah cabai merah besar -- Kecap --   \n",
       "..                                                                                                                                                                                                                                                                                                                                            ...   \n",
       "620                                                                                                                                                                              6 ekor Ikan nila -- 1 Tepung sajiku ayam kentucky -- 30 cabai rawit -- 10 Bawang putih -- secukupnya Minyak goreng -- secukupnya Penyedap -- secukupnya Garam --   \n",
       "621                                                                                                                                 650 Gram Ikan Tongkol -- 15 cabai Merah Keriting -- 15 cabai Rawit Merah -- 7 Buah Bawang Merah -- 5 Siung Bawang Putih -- 1 Ruas Jari Jahe -- 2 Ruas Jari Lengkuas -- 2 Lembar Daun Salam -- 1 Buah Tomat --   \n",
       "622                                                                                                                                                                                                 20 potong tuna iris kotak (rendam dengan air jeruk nipis) -- 1 sachet tepung crispy ayam -- 1 sachet saus teriyaki -- 1 buah bawang bombay --   \n",
       "623                                                                                                                                                2 bh terong ungu -- 1 kaleng sarden -- 5 bh cabai merah -- 5 bh cabai rawit -- 2 siung Bawang merah -- 1 siung Bawang putih -- Jahe di geprek -- 5 bh cabai hijau  di iris -- Garam -- Gula --   \n",
       "624                                                                                                         10 buah ikan tongkol iris -- 2 lembar daun jeruk -- minyak untuk menumis -- garam -- bumbu halus: -- 4 bawang merah -- 2 bawang putih -- 15 cabai merah keriting -- 10 cabai rawit setan (selera) -- 1/2 tomat besar -- gula merah --   \n",
       "\n",
       "                                                                                                                                                                                                                                                                                                                                                                                                                                                                                                                                                               Steps  \\\n",
       "0                                                                                                                                                                                                            Haluskan bawang merah ,  bawang putih dan cabai -- Iris buncis sesuai selera -- Tumis bumbu halus hingga harum -- Masukan buncis hingga agak layu -- Masukan penyedap -- Masukan telur ,  lalu campur dengan buncis di orak arik hingga rata.. tunggu sebentar kemudian di orak arik lagi..  -- Masukan kecap manis -- Masukan air  -- Koreksi rasa --    \n",
       "1    Cuci sayap ayam kemudian sisihkan. Rebus telur dan kupas. Sisihkan. Potong tempe sesuai selera. Sisihkan. -- Panaskan minyak langsung di dalam panci. Tumis sereh ,  daun salam ,  dan lengkuas. Setelah beberapa saat masukkan bumbu halus. Tumis sampai berbau harum. Kemudian masukkan air dan gula jawa dan cabai rawit. Jika air sudah mendidih ,  masukkan sayap ayam dan telur. Masukkan tempe. Tunggu sampai ayam empuk. Masukkan santan kara. Tunggu beberapa saat. Sesuaikan rasa. Matikan api ,  dan taburkan bawang goreng. -- Terik siap dinikmati   \n",
       "2                                                                                                                                                                                                                                                                                                                                                                              Campur kornet ,  telur ,  bawang prei dan cabai yang sudah di iris tipis. Tambahkan garam merica saos tiram dan tepung terigu. Goreng 1 sdm kemudian cek rasa. Adonan siap di goreng.   \n",
       "3                                                                                                                                                                           Uleg kacang ,  cabai ,  bawang putih ,  gula merah ,  petis. Tambahkan air matang. Aduk hingga rata. Sisihkan -- Potong tahu kecil-kecil. Sisihkan -- Kocok telur dan garam. Masukkan tahu ke telur. Goreng -- Campur telur goreng dan tauge dengan saus kacang. Aduk rata. -- Pindah ke piring ,  tambahkan kecap manis ,  taburi bawang goreng dan kucai / seledri. Tambahkan acar --    \n",
       "4                                                                                                                                                                                                                                                                                                                                                    Ceplok telur lalu sisihkan -- Iris tipis dua bawang , cabai dan tomat -- Panaskan minyak tumis bumbu sampai harum -- Tambahkan kecap masukan telur tambahkan air sampai bumbu meresap -- Angkat dan sajikan --    \n",
       "..                                                                                                                                                                                                                                                                                                                                                                                                                                                                                                                                                               ...   \n",
       "620                                                                                                                                                                                                   Belah ikan jgn sampai lepas, cuci bersih, beri garam dan jeruk nipis agar tidak amis. lalu baluri tepung sajiku basah, goreng. -- Goreng sebentar cabai rawit dan bawang putih, lalu giling kasar atau sesuai selera dengan sedikit minyak bekas goreng, tambah garam dn penyedap secukupnya. -- Sajikan ikan nila goreng dengan sambal ijo dan nasi panas. --   \n",
       "621                                                                                                                                                                                                                            Goreng Setengah Matang Ikan, Jangan Terlalu Kering Nanti Keras. -- Haluskan cabai Merah Keriting, cabai Rawit Merah, Bawang Merah, Bawang Putih, Tomat & Jahe. -- Setelah Bumbu Halus, Lalu Tumis Bumbu Beserta Lengkuas, Daun Salam. Sampai Harum. -- Setelah Harum Masukkan Ikan Lalu Masak Hingga Meresap. -- Angkat & Sajikan. --   \n",
       "622                                                                                                                                                     1 sachet tepung bagi dua, buat yg basah dan pisahkan yang kering... tuna yang sudah direndam air jeruk nipis masukan kedalam tepung yang diencerkan aduk rata -- Lalu masukan ketepung kering lakukan smpai tuna habis, kemudian goreng dengan api sedang udah kecoklatan angkat ga usah lama2 -- Tumis bawang bombay sampai harum, masukan tuna yg sudah digoreng, beri saus teriyaki aduk rata. Sajikan --   \n",
       "623                                                                                                                              Potong2 terong ukuran kecil.. Taruh di wadah lalu cuci dgn air garam -- Ulek cabai merah,bawang merah,bawang putih -- Lalu panas kan minyak diwajan... Tumis bumbu yg sdh dihaluskan, masukan jahe dan cabai hijau..tambahkan garam, gula lalu masukkan terong aduk2 tambahkan air lalu tutup wajan.. -- Lalu masukkan sarden aduk2 lg sampe rata lalu tutup kembali wajan... Koreksi rasa dan matikan api...siap dihidangkan... --   \n",
       "624                                                                                                                                                                                                                                                                                                                                                   Goreng sebentar ikan tongkol -- Dalam penggorengan terpisah, tumis bumbu halus, masukkan daun jeruk dan garam hingga berubah warna -- Masukkan ikan tongkol yg sudah digoreng tadi -- Koreksi rasa, sajikan --   \n",
       "\n",
       "     Loves                                                 URL  \\\n",
       "0      1.0                                                 NaN   \n",
       "1      6.0                                                 NaN   \n",
       "2      7.0                                                 NaN   \n",
       "3     10.0                                                 NaN   \n",
       "4      0.0                                                 NaN   \n",
       "..     ...                                                 ...   \n",
       "620    1.0             /id/resep/4454182-nila-goreng-cabai-ijo   \n",
       "621    0.0              /id/resep/4453997-tongkol-balado-rawit   \n",
       "622    0.0  /id/resep/4453867-tuna-goreng-crispy-saus-teriyaki   \n",
       "623    6.0               /id/resep/4454053-tumis-terong-sarden   \n",
       "624    5.0               /id/resep/4453989-ikan-tongkol-balado   \n",
       "\n",
       "                                                                                                                                   Parser Ingredient  \n",
       "0                                                                            telur buncis bawang merah bawang putih cabai rawit kecap manis penyedap  \n",
       "1    sayap ayam telur tempe bawang merah bawang putih kemiri ketumbar garam lengkuas salam sereh gula jawa bawang minyak santan kara air cabai rawit  \n",
       "2                                                                  kaleng kornet bawang prei telur tepung terigu cabai rawit garam merica saus tiram  \n",
       "3                telur tahu putih bawang putih petis udang kacang tanah gula merah air kucai seledri bawang garam kecap manis cabai rawit tauge acar  \n",
       "4                                                                                            telur bawang merah bawang putih tomat cabai merah kecap  \n",
       "..                                                                                                                                               ...  \n",
       "620                                                        ekor ikan nila tepung sajiku ayam kentucky cabai rawit bawang putih minyak penyedap garam  \n",
       "621                                          ikan tongkol cabai merah keriting cabai rawit merah bawang merah bawang putih jahe lengkuas salam tomat  \n",
       "622                                                                tuna air jeruk nipis sachet tepung crispy ayam sachet saus teriyaki bawang bombay  \n",
       "623                                          terong ungu kaleng sarden cabai merah cabai rawit bawang merah bawang putih jahe cabai hijau garam gula  \n",
       "624                                      ikan tongkol jeruk minyak garam bawang merah bawang putih cabai merah keriting cabai rawit tomat gula merah  \n",
       "\n",
       "[625 rows x 6 columns]"
      ]
     },
     "execution_count": 6,
     "metadata": {},
     "output_type": "execute_result"
    }
   ],
   "source": [
    "url = 'https://raw.githubusercontent.com/I0719031/Bangkit-Capstone-PC628/main/dataset_all.csv'\n",
    "\n",
    "# Membaca file CSV dari URL\n",
    "df = pd.read_csv(url)\n",
    "df"
   ]
  },
  {
   "cell_type": "code",
   "execution_count": null,
   "metadata": {},
   "outputs": [],
   "source": []
  }
 ],
 "metadata": {
  "accelerator": "TPU",
  "colab": {
   "include_colab_link": true,
   "private_outputs": true,
   "provenance": []
  },
  "gpuClass": "standard",
  "kernelspec": {
   "display_name": "Python 3 (ipykernel)",
   "language": "python",
   "name": "python3"
  },
  "language_info": {
   "codemirror_mode": {
    "name": "ipython",
    "version": 3
   },
   "file_extension": ".py",
   "mimetype": "text/x-python",
   "name": "python",
   "nbconvert_exporter": "python",
   "pygments_lexer": "ipython3",
   "version": "3.9.13"
  }
 },
 "nbformat": 4,
 "nbformat_minor": 1
}
