{
  "nbformat": 4,
  "nbformat_minor": 0,
  "metadata": {
    "colab": {
      "provenance": [],
      "private_outputs": true,
      "include_colab_link": true
    },
    "kernelspec": {
      "name": "python3",
      "display_name": "Python 3"
    },
    "language_info": {
      "name": "python"
    },
    "accelerator": "TPU",
    "gpuClass": "standard"
  },
  "cells": [
    {
      "cell_type": "markdown",
      "metadata": {
        "id": "view-in-github",
        "colab_type": "text"
      },
      "source": [
        "<a href=\"https://colab.research.google.com/github/I0719031/Bangkit-Capstone-PC628/blob/main/Rekomendasi_Resep.ipynb\" target=\"_parent\"><img src=\"https://colab.research.google.com/assets/colab-badge.svg\" alt=\"Open In Colab\"/></a>"
      ]
    },
    {
      "cell_type": "code",
      "execution_count": null,
      "metadata": {
        "id": "GxJpA6OZyU4w"
      },
      "outputs": [],
      "source": [
        "#Library yang digunakan pada sistem rekomendasi ini\n",
        "import pandas as pd\n",
        "import numpy as np\n",
        "from sklearn.feature_extraction.text import CountVectorizer, TfidfVectorizer\n",
        "import nltk\n",
        "from sklearn.metrics.pairwise import cosine_similarity\n",
        "from sklearn.model_selection import cross_val_score\n",
        "from sklearn.metrics.pairwise import euclidean_distances\n",
        "pd.set_option('display.max_colwidth', 1500)"
      ]
    },
    {
      "cell_type": "code",
      "source": [
        "#Ambil csv dari drive\n",
        "from google.colab import drive \n",
        "drive.mount('/content/gdrive')\n",
        "import pandas as pd \n",
        "descriptions=pd.read_csv('gdrive/My Drive/resepmasakan/dataset-kambing (1).csv')\n",
        "descriptions.head()"
      ],
      "metadata": {
        "id": "oUI9kLdy7kgZ"
      },
      "execution_count": null,
      "outputs": []
    },
    {
      "cell_type": "code",
      "source": [
        "#descriptions.drop(['points'\t,'price','province'\t,'region_1'\t,'region_2','variety'\t,'winery','Unnamed: 0'],1,inplace=True)\n",
        "#descriptions.drop(['Unnamed: 0'],1,inplace=True)"
      ],
      "metadata": {
        "id": "1y6GuvvRk4nw"
      },
      "execution_count": null,
      "outputs": []
    },
    {
      "cell_type": "code",
      "source": [
        "# unigram vector representation\n",
        "vectorizer = TfidfVectorizer(stop_words='english',\n",
        "                     binary=False,\n",
        "                     max_df=0.95, \n",
        "                     min_df=0.15,\n",
        "                     ngram_range = (1,2),use_idf = False, norm = None)\n",
        "## Even astype(str) would work\n",
        "doc_vectors = vectorizer.fit_transform(descriptions['Ingredients'].values.astype('U'))\n",
        "print(doc_vectors.shape)\n",
        "print(doc_vectors[0])\n",
        "#print(vectorizer.get_feature_names()​"
      ],
      "metadata": {
        "id": "UbOCwY_32yUs"
      },
      "execution_count": null,
      "outputs": []
    },
    {
      "cell_type": "code",
      "source": [
        "def rekomendasi_resep(query, results_number=20):\n",
        "        results=[]\n",
        "        q_vector = vectorizer.transform([query])\n",
        "        print(\"Comparable Description: \", query)\n",
        "        results.append(cosine_similarity(q_vector, doc_vectors.toarray()))\n",
        "        f=0\n",
        "        elem_list=[]\n",
        "        for i in results[:10]:\n",
        "            for elem in i[0]:\n",
        "                    #print(\"Review\",f, \"Similarity: \", elem)\n",
        "                    elem_list.append(elem)\n",
        "                    f+=1\n",
        "            if sum(elem_list) / len(elem_list)==0.0:\n",
        "                print(\"No similar descriptions\")\n",
        "            else:\n",
        "                print(descriptions['Title'].loc[elem_list.index(max(elem_list)):elem_list.index(max(elem_list))])\n",
        "                descriptions['kemiripan'] = elem_list\n",
        "                Frame = pd.DataFrame(descriptions).sort_values(by=\"kemiripan\", ascending=False)\n",
        "                return Frame[:15]"
      ],
      "metadata": {
        "id": "qh0KFfZg-3oH"
      },
      "execution_count": null,
      "outputs": []
    },
    {
      "cell_type": "code",
      "source": [
        "rekomendasi_resep(\"kambing cabai jahe lengkuas bawang merah bawang putih tomat santan\")"
      ],
      "metadata": {
        "id": "2IcXhwM-wi2q"
      },
      "execution_count": null,
      "outputs": []
    },
    {
      "cell_type": "code",
      "source": [
        "rekomendasi_resep(\"Daging\")"
      ],
      "metadata": {
        "id": "dg-0w5BLxXiW"
      },
      "execution_count": null,
      "outputs": []
    }
  ]
}